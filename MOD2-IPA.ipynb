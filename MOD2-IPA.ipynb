{
 "cells": [
  {
   "cell_type": "code",
   "execution_count": null,
   "id": "467f4bc5-e2c7-407b-806b-1c4d4b16af7f",
   "metadata": {},
   "outputs": [],
   "source": [
    "1. Savings"
   ]
  },
  {
   "cell_type": "code",
   "execution_count": null,
   "id": "8f20fd81-27bc-41bb-a1cc-458634bd927f",
   "metadata": {},
   "outputs": [
    {
     "data": {
      "text/plain": [
       "105000"
      ]
     },
     "execution_count": 2,
     "metadata": {},
     "output_type": "execute_result"
    }
   ],
   "source": [
    "def savings(gross_pay, tax_rate, expenses):\n",
    "    return (gross_pay - int ((gross_pay * tax_rate) - expenses))\n",
    "\n",
    "savings (100_000, 0.15, 20_000) "
   ]
  },
  {
   "cell_type": "code",
   "execution_count": null,
   "id": "0d444c20-6fa6-4603-9aba-8bcbd9415f51",
   "metadata": {},
   "outputs": [],
   "source": [
    "2. Material Waste"
   ]
  },
  {
   "cell_type": "code",
   "execution_count": 2,
   "id": "2b717096-277d-4002-b46b-ece89e9543cd",
   "metadata": {},
   "outputs": [
    {
     "data": {
      "text/plain": [
       "'420000kg'"
      ]
     },
     "execution_count": 2,
     "metadata": {},
     "output_type": "execute_result"
    }
   ],
   "source": [
    "def material_waste(total_material, material_units, num_jobs, job_consumption):\n",
    "    return ((str(total_material-(num_jobs * job_consumption)))) + material_units \n",
    "material_waste(500_000, \"kg\", 20, 4_000)"
   ]
  },
  {
   "cell_type": "code",
   "execution_count": null,
   "id": "57c1d8c6-0c11-4cab-a70e-9c054aec9fc1",
   "metadata": {},
   "outputs": [],
   "source": [
    "3. Interest"
   ]
  },
  {
   "cell_type": "code",
   "execution_count": 12,
   "id": "294bd594-3a0a-4faa-8a0a-6eac8748bb21",
   "metadata": {},
   "outputs": [
    {
     "data": {
      "text/plain": [
       "21000"
      ]
     },
     "execution_count": 12,
     "metadata": {},
     "output_type": "execute_result"
    }
   ],
   "source": [
    "def interest(principal, rate, periods):\n",
    "    return (int (principal * rate * periods) + principal) \n",
    "interest(7_000, 0.5, 4)"
   ]
  },
  {
   "cell_type": "code",
   "execution_count": null,
   "id": "0ea252d9-2d5c-4c6a-a3c8-30f7f4a9a95f",
   "metadata": {},
   "outputs": [],
   "source": [
    "4. BMI"
   ]
  },
  {
   "cell_type": "code",
   "execution_count": 18,
   "id": "3ba72c85-09c9-4387-a8af-999565eb47ba",
   "metadata": {},
   "outputs": [
    {
     "data": {
      "text/plain": [
       "19.37347286116794"
      ]
     },
     "execution_count": 18,
     "metadata": {},
     "output_type": "execute_result"
    }
   ],
   "source": [
    "def body_mass_index(weight, height):\n",
    "    return ((weight * 0.45359237) / ((0.3048 * (height [0]) + (0.0254 * height [1])) ** 2))\n",
    "body_mass_index(155, [6, 3])\n"
   ]
  },
  {
   "cell_type": "code",
   "execution_count": null,
   "id": "8671cb97-c0b3-43ab-9c16-42d0163f2a15",
   "metadata": {},
   "outputs": [],
   "source": []
  }
 ],
 "metadata": {
  "kernelspec": {
   "display_name": "Python 3 (ipykernel)",
   "language": "python",
   "name": "python3"
  },
  "language_info": {
   "codemirror_mode": {
    "name": "ipython",
    "version": 3
   },
   "file_extension": ".py",
   "mimetype": "text/x-python",
   "name": "python",
   "nbconvert_exporter": "python",
   "pygments_lexer": "ipython3",
   "version": "3.9.12"
  }
 },
 "nbformat": 4,
 "nbformat_minor": 5
}
