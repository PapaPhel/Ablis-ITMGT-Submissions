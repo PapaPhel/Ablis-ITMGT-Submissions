{
 "cells": [
  {
   "cell_type": "code",
   "execution_count": 7,
   "id": "416aa6c4-526d-401a-869e-191cd61c3804",
   "metadata": {},
   "outputs": [
    {
     "name": "stdout",
     "output_type": "stream",
     "text": [
      "C\n"
     ]
    }
   ],
   "source": [
    "def shift_letter(s, shifts):\n",
    "   start = ord(\"A\")\n",
    "   res = [ord(i) - start for i in s]\n",
    "\n",
    "   for i in range(len(shifts) - 2, -1, -1):\n",
    "      shifts[i] += shifts[i + 1]\n",
    "\n",
    "   for i in range(len(s)):\n",
    "      c = (res[i] + shifts[i]) % 26\n",
    "      res[i] = chr(c + start)\n",
    "\n",
    "   return \"\".join(res)\n",
    "\n",
    "s = \"X\"\n",
    "shifts = [5]\n",
    "print(solve(s, shifts))"
   ]
  },
  {
   "cell_type": "code",
   "execution_count": 2,
   "id": "d67acf57-38fa-4dd8-90ec-45872cc4e9b4",
   "metadata": {},
   "outputs": [
    {
     "name": "stdout",
     "output_type": "stream",
     "text": [
      "caesar_cipher ( A , 65 )\n"
     ]
    }
   ],
   "source": [
    "message=\"A\"\n",
    "unicode = ord(message)\n",
    "print(\"caesar_cipher\",\"(\",message,\",\",unicode,\")\")"
   ]
  },
  {
   "cell_type": "code",
   "execution_count": 8,
   "id": "ca025c99-7267-4f85-a034-29f9b969513b",
   "metadata": {},
   "outputs": [
    {
     "name": "stdout",
     "output_type": "stream",
     "text": [
      "L\n"
     ]
    }
   ],
   "source": [
    "def shift_byletter(s, shifts):\n",
    "   start = ord(\"A\")\n",
    "   res = [ord(i) - start for i in s]\n",
    "\n",
    "   for i in range(len(shifts) - 2, -1, -1):\n",
    "      shifts[i] += shifts[i + 1]\n",
    "\n",
    "   for i in range(len(s)):\n",
    "      c = (res[i] + shifts[i]) % 26\n",
    "      res[i] = chr(c + start)\n",
    "\n",
    "   return \"\".join(res)\n",
    "\n",
    "s = \"B\"\n",
    "shifts = [10]\n",
    "print(solve(s, shifts))"
   ]
  },
  {
   "cell_type": "code",
   "execution_count": 4,
   "id": "9b26e1ed-c292-413b-87a4-7e3f0390089f",
   "metadata": {},
   "outputs": [
    {
     "name": "stdin",
     "output_type": "stream",
     "text": [
      "Enter the message:  dawdwd\n",
      "Enter the keyword:  w\n"
     ]
    },
    {
     "name": "stdout",
     "output_type": "stream",
     "text": [
      "Encrypted message: LIELEL\n"
     ]
    }
   ],
   "source": [
    "def vigenere_cipher(string, key): \n",
    "  key = list(key) \n",
    "  if len(string) == len(key): \n",
    "    return(key) \n",
    "  else: \n",
    "    for i in range(len(string) -len(key)): \n",
    "      key.append(key[i % len(key)]) \n",
    "  return(\"\" . join(key)) \n",
    "  \n",
    "def encryption(string, key): \n",
    "  encrypt_text = []\n",
    "  for i in range(len(string)): \n",
    "    x = (ord(string[i]) +ord(key[i])) % 26\n",
    "    x += ord('A')\n",
    "    encrypt_text.append(chr(x)) \n",
    "  return(\"\" . join(encrypt_text)) \n",
    "\n",
    "if __name__ == \"__main__\": \n",
    "  string = input(\"Enter the message: \")\n",
    "  keyword = input(\"Enter the keyword: \")\n",
    "  key = vigenere_cipher(string, keyword) \n",
    "  encrypt_text = encryption(string,key) \n",
    "  print(\"Encrypted message:\", encrypt_text)"
   ]
  },
  {
   "cell_type": "code",
   "execution_count": 5,
   "id": "64c54287-bc1a-4825-ade1-eb807843608a",
   "metadata": {},
   "outputs": [
    {
     "name": "stdout",
     "output_type": "stream",
     "text": [
      "The original string is : INFORMATION_AGE\n",
      "The string after rotation is : RMATION_AGEINFO\n"
     ]
    }
   ],
   "source": [
    "test_str = 'INFORMATION_AGE'\n",
    "print(\"The original string is : \" + test_str)\n",
    "r_rot = 7\n",
    "l_rot = 3\n",
    "temp = (r_rot - l_rot) % len(test_str)\n",
    "res = test_str[temp : ] + test_str[ : temp]\n",
    " \n",
    "print(\"The string after rotation is : \" + str(res)) "
   ]
  },
  {
   "cell_type": "code",
   "execution_count": 6,
   "id": "04a6131a-b5dd-4cbf-8bb8-206bec0a865f",
   "metadata": {},
   "outputs": [
    {
     "name": "stdout",
     "output_type": "stream",
     "text": [
      "The original string is : RMATION_AGEINFO\n",
      "The string after rotation is : INFORMATION_AGE\n"
     ]
    }
   ],
   "source": [
    "test_str = 'RMATION_AGEINFO'\n",
    "print(\"The original string is : \" + test_str)\n",
    "r_rot = 3\n",
    "l_rot = 7\n",
    "temp = (r_rot - l_rot) % len(test_str)\n",
    "res = test_str[temp : ] + test_str[ : temp]\n",
    " \n",
    "print(\"The string after rotation is : \" + str(res)) "
   ]
  },
  {
   "cell_type": "code",
   "execution_count": null,
   "id": "a0e4f828-d98a-4f4f-92f4-9e18972cd094",
   "metadata": {},
   "outputs": [],
   "source": []
  }
 ],
 "metadata": {
  "kernelspec": {
   "display_name": "Python 3 (ipykernel)",
   "language": "python",
   "name": "python3"
  },
  "language_info": {
   "codemirror_mode": {
    "name": "ipython",
    "version": 3
   },
   "file_extension": ".py",
   "mimetype": "text/x-python",
   "name": "python",
   "nbconvert_exporter": "python",
   "pygments_lexer": "ipython3",
   "version": "3.9.12"
  }
 },
 "nbformat": 4,
 "nbformat_minor": 5
}
