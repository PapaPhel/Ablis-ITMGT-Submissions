{
 "cells": [
  {
   "cell_type": "code",
   "execution_count": null,
   "id": "da91e1ef-ea6d-489c-b4d5-5708b3a04b47",
   "metadata": {},
   "outputs": [],
   "source": [
    "Tic Tac Toe"
   ]
  },
  {
   "cell_type": "code",
   "execution_count": 1,
   "id": "64c4b4da-1a63-43d3-b429-2fc34c7927df",
   "metadata": {},
   "outputs": [
    {
     "name": "stdout",
     "output_type": "stream",
     "text": [
      "Tic-Tac-Toe Game Designed By Sourabh Somani\n",
      "Player 1 [X] --- Player 2 [O]\n",
      "\n",
      "\n",
      "\n",
      "Please Wait...\n",
      "   |   |   \n",
      "___|___|___\n",
      "   |   |   \n",
      "___|___|___\n",
      "   |   |   \n",
      "   |   |   \n",
      "Player 1's chance\n"
     ]
    },
    {
     "name": "stdin",
     "output_type": "stream",
     "text": [
      "Enter the position between [1-9] where you want to mark :  1\n"
     ]
    },
    {
     "name": "stdout",
     "output_type": "stream",
     "text": [
      " X |   |   \n",
      "___|___|___\n",
      "   |   |   \n",
      "___|___|___\n",
      "   |   |   \n",
      "   |   |   \n",
      "Player 2's chance\n"
     ]
    },
    {
     "name": "stdin",
     "output_type": "stream",
     "text": [
      "Enter the position between [1-9] where you want to mark :  2\n"
     ]
    },
    {
     "name": "stdout",
     "output_type": "stream",
     "text": [
      " X | O |   \n",
      "___|___|___\n",
      "   |   |   \n",
      "___|___|___\n",
      "   |   |   \n",
      "   |   |   \n",
      "Player 1's chance\n"
     ]
    },
    {
     "name": "stdin",
     "output_type": "stream",
     "text": [
      "Enter the position between [1-9] where you want to mark :  3\n"
     ]
    },
    {
     "name": "stdout",
     "output_type": "stream",
     "text": [
      " X | O | X \n",
      "___|___|___\n",
      "   |   |   \n",
      "___|___|___\n",
      "   |   |   \n",
      "   |   |   \n",
      "Player 2's chance\n"
     ]
    },
    {
     "name": "stdin",
     "output_type": "stream",
     "text": [
      "Enter the position between [1-9] where you want to mark :  6\n"
     ]
    },
    {
     "name": "stdout",
     "output_type": "stream",
     "text": [
      " X | O | X \n",
      "___|___|___\n",
      "   |   | O \n",
      "___|___|___\n",
      "   |   |   \n",
      "   |   |   \n",
      "Player 1's chance\n"
     ]
    },
    {
     "name": "stdin",
     "output_type": "stream",
     "text": [
      "Enter the position between [1-9] where you want to mark :  5\n"
     ]
    },
    {
     "name": "stdout",
     "output_type": "stream",
     "text": [
      " X | O | X \n",
      "___|___|___\n",
      "   | X | O \n",
      "___|___|___\n",
      "   |   |   \n",
      "   |   |   \n",
      "Player 2's chance\n"
     ]
    },
    {
     "name": "stdin",
     "output_type": "stream",
     "text": [
      "Enter the position between [1-9] where you want to mark :  9\n"
     ]
    },
    {
     "name": "stdout",
     "output_type": "stream",
     "text": [
      " X | O | X \n",
      "___|___|___\n",
      "   | X | O \n",
      "___|___|___\n",
      "   |   | O \n",
      "   |   |   \n",
      "Player 1's chance\n"
     ]
    },
    {
     "name": "stdin",
     "output_type": "stream",
     "text": [
      "Enter the position between [1-9] where you want to mark :  7\n"
     ]
    },
    {
     "name": "stdout",
     "output_type": "stream",
     "text": [
      " X | O | X \n",
      "___|___|___\n",
      "   | X | O \n",
      "___|___|___\n",
      " X |   | O \n",
      "   |   |   \n",
      "Player 1 Won\n"
     ]
    }
   ],
   "source": [
    "import os    \n",
    "import time    \n",
    "    \n",
    "board = [' ',' ',' ',' ',' ',' ',' ',' ',' ',' ']    \n",
    "player = 1    \n",
    "   \n",
    "########win Flags##########    \n",
    "Win = 1    \n",
    "Draw = -1    \n",
    "Running = 0    \n",
    "Stop = 1    \n",
    "###########################    \n",
    "Game = Running    \n",
    "Mark = 'X'    \n",
    "   \n",
    "#This Function Draws Game Board    \n",
    "def DrawBoard():    \n",
    "    print(\" %c | %c | %c \" % (board[1],board[2],board[3]))    \n",
    "    print(\"___|___|___\")    \n",
    "    print(\" %c | %c | %c \" % (board[4],board[5],board[6]))    \n",
    "    print(\"___|___|___\")    \n",
    "    print(\" %c | %c | %c \" % (board[7],board[8],board[9]))    \n",
    "    print(\"   |   |   \")    \n",
    "   \n",
    "#This Function Checks position is empty or not    \n",
    "def CheckPosition(x):    \n",
    "    if(board[x] == ' '):    \n",
    "        return True    \n",
    "    else:    \n",
    "        return False    \n",
    "   \n",
    "#This Function Checks player has won or not    \n",
    "def CheckWin():    \n",
    "    global Game    \n",
    "    #Horizontal winning condition    \n",
    "    if(board[1] == board[2] and board[2] == board[3] and board[1] != ' '):    \n",
    "        Game = Win    \n",
    "    elif(board[4] == board[5] and board[5] == board[6] and board[4] != ' '):    \n",
    "        Game = Win    \n",
    "    elif(board[7] == board[8] and board[8] == board[9] and board[7] != ' '):    \n",
    "        Game = Win    \n",
    "    #Vertical Winning Condition    \n",
    "    elif(board[1] == board[4] and board[4] == board[7] and board[1] != ' '):    \n",
    "        Game = Win    \n",
    "    elif(board[2] == board[5] and board[5] == board[8] and board[2] != ' '):    \n",
    "        Game = Win    \n",
    "    elif(board[3] == board[6] and board[6] == board[9] and board[3] != ' '):    \n",
    "        Game=Win    \n",
    "    #Diagonal Winning Condition    \n",
    "    elif(board[1] == board[5] and board[5] == board[9] and board[5] != ' '):    \n",
    "        Game = Win    \n",
    "    elif(board[3] == board[5] and board[5] == board[7] and board[5] != ' '):    \n",
    "        Game=Win    \n",
    "    #Match Tie or Draw Condition    \n",
    "    elif(board[1]!=' ' and board[2]!=' ' and board[3]!=' ' and board[4]!=' ' and board[5]!=' ' and board[6]!=' ' and board[7]!=' ' and board[8]!=' ' and board[9]!=' '):    \n",
    "        Game=Draw    \n",
    "    else:            \n",
    "        Game=Running    \n",
    "    \n",
    "print(\"Tic-Tac-Toe Game Designed By Sourabh Somani\")    \n",
    "print(\"Player 1 [X] --- Player 2 [O]\\n\")    \n",
    "print()    \n",
    "print()    \n",
    "print(\"Please Wait...\")    \n",
    "time.sleep(3)    \n",
    "while(Game == Running):    \n",
    "    os.system('cls')    \n",
    "    DrawBoard()    \n",
    "    if(player % 2 != 0):    \n",
    "        print(\"Player 1's chance\")    \n",
    "        Mark = 'X'    \n",
    "    else:    \n",
    "        print(\"Player 2's chance\")    \n",
    "        Mark = 'O'    \n",
    "    choice = int(input(\"Enter the position between [1-9] where you want to mark : \"))    \n",
    "    if(CheckPosition(choice)):    \n",
    "        board[choice] = Mark    \n",
    "        player+=1    \n",
    "        CheckWin()    \n",
    "    \n",
    "os.system('cls')    \n",
    "DrawBoard()    \n",
    "if(Game==Draw):    \n",
    "    print(\"Game Draw\")    \n",
    "elif(Game==Win):    \n",
    "    player-=1    \n",
    "    if(player%2!=0):    \n",
    "        print(\"Player 1 Won\")    \n",
    "    else:    \n",
    "        print(\"Player 2 Won\")  "
   ]
  },
  {
   "cell_type": "code",
   "execution_count": null,
   "id": "9723aade-a2ee-4bb5-b0e9-31a1c557850a",
   "metadata": {},
   "outputs": [],
   "source": [
    "ETA"
   ]
  },
  {
   "cell_type": "code",
   "execution_count": null,
   "id": "ea93b49a-e841-4f47-aaf2-cb5a0a96049d",
   "metadata": {},
   "outputs": [
    {
     "name": "stdout",
     "output_type": "stream",
     "text": [
      "Arrival Time Estimator\n"
     ]
    },
    {
     "name": "stdin",
     "output_type": "stream",
     "text": [
      "\n",
      "Please enter the estimated departure date (YYYY-MM-DD):  2022-07-08\n",
      "Please enter the estimated time of departure(HH:MM AM/PM):  01-55 AM\n"
     ]
    },
    {
     "name": "stdout",
     "output_type": "stream",
     "text": [
      "Invalid format. Please try again.\n",
      "\n"
     ]
    },
    {
     "name": "stdin",
     "output_type": "stream",
     "text": [
      "Please enter the estimated time of departure(HH:MM AM/PM):  10:00PM\n"
     ]
    },
    {
     "name": "stdout",
     "output_type": "stream",
     "text": [
      "Invalid format. Please try again.\n",
      "\n"
     ]
    },
    {
     "name": "stdin",
     "output_type": "stream",
     "text": [
      "Please enter the estimated time of departure(HH:MM AM/PM):  10:00\n"
     ]
    },
    {
     "name": "stdout",
     "output_type": "stream",
     "text": [
      "Invalid format. Please try again.\n",
      "\n"
     ]
    },
    {
     "name": "stdin",
     "output_type": "stream",
     "text": [
      "Please enter the estimated time of departure(HH:MM AM/PM):  10:00 AM\n",
      "Enter miles to be travelled:  10\n",
      "Enter miles per hour:  1\n"
     ]
    },
    {
     "name": "stdout",
     "output_type": "stream",
     "text": [
      "\n",
      "\n",
      "Estimated Travel Time\n",
      "Hours:  10\n",
      "Minutes:  0\n",
      "Estimated Date of Arrival:  2022-07-08\n",
      "Estimated Time of Arrival:  08:00 PM\n"
     ]
    },
    {
     "name": "stdin",
     "output_type": "stream",
     "text": [
      "Continue? (y/n):  y\n"
     ]
    }
   ],
   "source": [
    "from datetime import datetime, time, date, timedelta\n",
    "\n",
    "import locale\n",
    "\n",
    "def get_date():\n",
    "    while True:\n",
    "        date = input(\"\\nPlease enter the estimated departure date (YYYY-MM-DD): \")\n",
    "    #validate\n",
    "        try:\n",
    "            departure_date = datetime.strptime(date, \"%Y-%m-%d\")\n",
    "            return departure_date\n",
    "        except ValueError:\n",
    "            print(\"Invalid format. Please try again.\\n\")\n",
    "            continue\n",
    "\n",
    "    \n",
    "def get_time():\n",
    "    while True:\n",
    "        time = input(\"Please enter the estimated time of departure(HH:MM AM/PM): \")\n",
    "        try:\n",
    "            departure_time = datetime.strptime(time, \"%I:%M %p\")\n",
    "            return departure_time\n",
    "        except ValueError:\n",
    "            print(\"Invalid format. Please try again.\\n\")\n",
    "            continue           \n",
    "    \n",
    "def get_dist():\n",
    "    while True:\n",
    "        miles = input(\"Enter miles to be travelled: \")\n",
    "    #validate\n",
    "        try:\n",
    "            miles = int(miles)\n",
    "            if miles <= 0:\n",
    "                print(\"Invalid entry. Please enter a number greater than zero.\\n\")\n",
    "            else:\n",
    "                return miles\n",
    "        except ValueError:\n",
    "            print(\"Invalid format. Please Try again\\n\")\n",
    "            continue\n",
    "    \n",
    "def get_speed():\n",
    "   while True:\n",
    "        speed = input(\"Enter miles per hour: \")\n",
    "    #validate\n",
    "        try:\n",
    "            mph = int(speed)\n",
    "            if mph <= 0:\n",
    "                print(\"Invalid entry. Please enter a number greater than zero.\\n\")\n",
    "            else:\n",
    "                return mph\n",
    "        except ValueError:\n",
    "            print(\"Invalid format. Please Try again\\n\")\n",
    "            continue\n",
    "\n",
    "def calculate(departure_date, departure_time, miles, mph):\n",
    "    #calculate travel time\n",
    "    hours = int(miles/mph)\n",
    "    minutes = int(((miles/mph)-hours)*60)\n",
    "    travel_time = timedelta(hours=hours, minutes=minutes)\n",
    "\n",
    "\n",
    "    #estimate the date and time of arrival\n",
    "    #Handle the possibility  of the trip spanning multiple days\n",
    "    midnight = datetime.strptime(\"12:00 AM\", \"%I:%M %p\")\n",
    "    time_to_midnight = (midnight - departure_time) + timedelta(days=1)  #a variable that holds the hours and minutes between the departure date and midnight\n",
    "    elapsed_time = travel_time                                          #a copy of the travel time that can be modified\n",
    "    if elapsed_time >= time_to_midnight:\n",
    "        elapsed_time += timedelta(days = 1)\n",
    "      \n",
    "    print(\"\\n\\nEstimated Travel Time\")\n",
    "    print(\"Hours: \", hours)\n",
    "    print(\"Minutes: \", minutes)\n",
    "    arrival_date = departure_date + elapsed_time \n",
    "    print(\"Estimated Date of Arrival: \", arrival_date.strftime(\"%Y-%m-%d\"))\n",
    "    arrival_time = departure_time + travel_time\n",
    "    print(\"Estimated Time of Arrival: \", arrival_time.strftime(\"%I:%M %p\"))    \n",
    "    \n",
    "def main():\n",
    "    print(\"Arrival Time Estimator\")\n",
    "    choice = \"y\"\n",
    "    while choice.lower() == \"y\":\n",
    "        #call functions\n",
    "        departure_date = get_date()\n",
    "        departure_time = get_time()\n",
    "        miles = get_dist()\n",
    "        mph = get_speed()\n",
    "        calculate(departure_date, departure_time, miles, mph)\n",
    "        choice = input(\"Continue? (y/n): \")\n",
    "    print(\"bye!\")\n",
    "\n",
    "if __name__ == \"__main__\":\n",
    "    main()"
   ]
  },
  {
   "cell_type": "code",
   "execution_count": null,
   "id": "0c1dc30f-3105-472b-a153-f0a4fa13f54b",
   "metadata": {},
   "outputs": [],
   "source": [
    "Relationship Status"
   ]
  },
  {
   "cell_type": "code",
   "execution_count": null,
   "id": "16c56f85-b5f2-4bc6-9ac0-076bf89e1949",
   "metadata": {},
   "outputs": [],
   "source": [
    "def get_name():\n",
    "    while True:\n",
    "        name = input(\"\\nPlease enter your name \")\n",
    "    #validate\n",
    "        try:\n",
    "            name = name(\"\")\n",
    "            return name\n",
    "        except ValueError:\n",
    "            print(\"Invalid format. Please try again.\\n\")\n",
    "            continue\n",
    "         \n",
    "    \n",
    "def get_followers():\n",
    "   while True:\n",
    "        \n",
    "        try:\n",
    "            \n",
    "        except ValueError:\n",
    "            print(\"Invalid format. Please Try again\\n\")\n",
    "            continue\n",
    "\n",
    "\n",
    "  \n",
    "    print(name,followers)"
   ]
  },
  {
   "cell_type": "code",
   "execution_count": null,
   "id": "53bfc552-d75c-40a4-9bfb-21eeec5ac9fe",
   "metadata": {},
   "outputs": [],
   "source": []
  }
 ],
 "metadata": {
  "kernelspec": {
   "display_name": "Python 3 (ipykernel)",
   "language": "python",
   "name": "python3"
  },
  "language_info": {
   "codemirror_mode": {
    "name": "ipython",
    "version": 3
   },
   "file_extension": ".py",
   "mimetype": "text/x-python",
   "name": "python",
   "nbconvert_exporter": "python",
   "pygments_lexer": "ipython3",
   "version": "3.9.12"
  }
 },
 "nbformat": 4,
 "nbformat_minor": 5
}
